{
 "cells": [
  {
   "cell_type": "markdown",
   "id": "c9f50f97",
   "metadata": {},
   "source": [
    "# Machine Learning Basics\n",
    "Basic regression model for practice\n",
    "method : supervised learning\n",
    "algo : linier regx\n",
    "\n",
    "First Import libraries that are required!"
   ]
  },
  {
   "cell_type": "code",
   "execution_count": 30,
   "id": "06c58219",
   "metadata": {},
   "outputs": [
    {
     "name": "stdout",
     "output_type": "stream",
     "text": [
      "Import of reuired libraries is complete\n"
     ]
    }
   ],
   "source": [
    "import numpy\n",
    "import pandas\n",
    "from sklearn.linear_model import LinearRegression\n",
    "print(\"Import of reuired libraries is complete\")"
   ]
  },
  {
   "cell_type": "code",
   "execution_count": 31,
   "id": "d4bb7bb5",
   "metadata": {},
   "outputs": [
    {
     "name": "stdout",
     "output_type": "stream",
     "text": [
      "   PRT_ID        AREA  INT_SQFT   DATE_SALE  DIST_MAINROAD  N_BEDROOM  \\\n",
      "0  P03210  Karapakkam      1004  04-05-2011            131        1.0   \n",
      "1  P09411  Anna Nagar      1986  19-12-2006             26        2.0   \n",
      "2  P01812       Adyar       909  04-02-2012             70        1.0   \n",
      "3  P05346   Velachery      1855  13-03-2010             14        3.0   \n",
      "4  P06210  Karapakkam      1226  05-10-2009             84        1.0   \n",
      "\n",
      "   N_BATHROOM  N_ROOM SALE_COND PARK_FACIL  ... UTILITY_AVAIL  STREET MZZONE  \\\n",
      "0         1.0       3  AbNormal        Yes  ...        AllPub   Paved      A   \n",
      "1         1.0       5  AbNormal         No  ...        AllPub  Gravel     RH   \n",
      "2         1.0       3  AbNormal        Yes  ...           ELO  Gravel     RL   \n",
      "3         2.0       5    Family         No  ...       NoSewr    Paved      I   \n",
      "4         1.0       3  AbNormal        Yes  ...        AllPub  Gravel      C   \n",
      "\n",
      "  QS_ROOMS QS_BATHROOM  QS_BEDROOM  QS_OVERALL  REG_FEE  COMMIS  SALES_PRICE  \n",
      "0      4.0         3.9         4.9       4.330   380000  144400      7600000  \n",
      "1      4.9         4.2         2.5       3.765   760122  304049     21717770  \n",
      "2      4.1         3.8         2.2       3.090   421094   92114     13159200  \n",
      "3      4.7         3.9         3.6       4.010   356321   77042      9630290  \n",
      "4      3.0         2.5         4.1       3.290   237000   74063      7406250  \n",
      "\n",
      "[5 rows x 22 columns]\n"
     ]
    }
   ],
   "source": [
    "data = pandas.read_csv(\".\\Chennai_houseing_sale.csv\")\n",
    "print(data.head())"
   ]
  },
  {
   "cell_type": "code",
   "execution_count": 57,
   "id": "cb9483bc",
   "metadata": {},
   "outputs": [
    {
     "name": "stdout",
     "output_type": "stream",
     "text": [
      "Index(['PRT_ID', 'AREA', 'INT_SQFT', 'DATE_SALE', 'DIST_MAINROAD', 'N_BEDROOM',\n",
      "       'N_BATHROOM', 'N_ROOM', 'SALE_COND', 'PARK_FACIL', 'DATE_BUILD',\n",
      "       'BUILDTYPE', 'UTILITY_AVAIL', 'STREET', 'MZZONE', 'QS_ROOMS',\n",
      "       'QS_BATHROOM', 'QS_BEDROOM', 'QS_OVERALL', 'REG_FEE', 'COMMIS',\n",
      "       'SALES_PRICE'],\n",
      "      dtype='object')\n",
      "\n",
      "\n",
      "\n",
      " Input data : \n",
      "   INT_SQFT\n",
      "0      1004\n",
      "1      1986\n",
      "2       909\n",
      "3      1855\n",
      "4      1226\n"
     ]
    }
   ],
   "source": [
    "print(data.columns)\n",
    "data = data.dropna()\n",
    "print(\"\\n\"*3,\"Input data : \")\n",
    "inp_data = data.loc[:,['INT_SQFT']]\n",
    "print(inp_data.head())"
   ]
  },
  {
   "cell_type": "code",
   "execution_count": 40,
   "id": "7a36987e",
   "metadata": {},
   "outputs": [
    {
     "name": "stdout",
     "output_type": "stream",
     "text": [
      "   SALES_PRICE\n",
      "0      7600000\n",
      "1     21717770\n",
      "2     13159200\n",
      "3      9630290\n",
      "4      7406250\n"
     ]
    }
   ],
   "source": [
    "out_data = data.loc[:,['SALES_PRICE']]\n",
    "print(out_data.head())"
   ]
  },
  {
   "cell_type": "code",
   "execution_count": 41,
   "id": "54625b9c-04d0-44ac-ae0c-def98e101ec1",
   "metadata": {},
   "outputs": [
    {
     "name": "stdout",
     "output_type": "stream",
     "text": [
      "False\n"
     ]
    }
   ],
   "source": [
    "print(inp_data.isnull().values.any())"
   ]
  },
  {
   "cell_type": "code",
   "execution_count": 58,
   "id": "73a97aa6-43ab-46f9-af16-4bf94d422123",
   "metadata": {},
   "outputs": [
    {
     "data": {
      "text/plain": [
       "LinearRegression()"
      ]
     },
     "execution_count": 58,
     "metadata": {},
     "output_type": "execute_result"
    }
   ],
   "source": [
    "model = LinearRegression()\n",
    "model.fit(inp_data,out_data)"
   ]
  },
  {
   "cell_type": "code",
   "execution_count": 61,
   "id": "35373929-31f8-4da4-9e14-945b64615ce1",
   "metadata": {},
   "outputs": [
    {
     "name": "stdout",
     "output_type": "stream",
     "text": [
      "[[7956169.57756607]]\n"
     ]
    }
   ],
   "source": [
    "test = [[800]]\n",
    "\n",
    "print(model.predict(test))"
   ]
  },
  {
   "cell_type": "code",
   "execution_count": null,
   "id": "ab3c1efe-ddf5-4efd-a33f-51a3416ef840",
   "metadata": {},
   "outputs": [],
   "source": []
  }
 ],
 "metadata": {
  "kernelspec": {
   "display_name": "Python 3 (ipykernel)",
   "language": "python",
   "name": "python3"
  },
  "language_info": {
   "codemirror_mode": {
    "name": "ipython",
    "version": 3
   },
   "file_extension": ".py",
   "mimetype": "text/x-python",
   "name": "python",
   "nbconvert_exporter": "python",
   "pygments_lexer": "ipython3",
   "version": "3.9.7"
  }
 },
 "nbformat": 4,
 "nbformat_minor": 5
}
